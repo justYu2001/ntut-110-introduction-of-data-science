{
 "cells": [
  {
   "cell_type": "markdown",
   "metadata": {},
   "source": [
    "# 資工二 109590011 陳彥宇 資料科學導論 Lab4"
   ]
  },
  {
   "cell_type": "code",
   "execution_count": 1,
   "metadata": {},
   "outputs": [],
   "source": [
    "import requests\n",
    "import numpy as np\n",
    "import pandas as pd\n",
    "\n",
    "date = '20220321'\n",
    "url = f'https://www.twse.com.tw/exchangeReport/MI_INDEX?response=json&date={date}&type=ALLBUT0999'\n",
    "\n",
    "response = requests.get(url)\n",
    "json = response.json()\n",
    "stock = pd.DataFrame(json['data9'], columns=json['fields9'])\n",
    "\n",
    "data = stock.loc[: ,['證券名稱', '收盤價']]\n",
    "\n",
    "replaceMap = {\n",
    "    ',': '',\n",
    "    '--': np.nan,\n",
    "}\n",
    "data = data.replace(replaceMap, regex=True)\n",
    "data = data.apply(pd.to_numeric, errors='ignore', downcast = 'float')\n",
    "\n",
    "target = data.loc[data['收盤價'] > 1000]\n",
    "numberOfTarget = target.value_counts().sum()\n",
    "closingPriceMean = target.describe().mean()['收盤價']\n",
    "\n",
    "maxClosingPrice = target.describe().max()['收盤價']\n",
    "stockKing = target.loc[target['收盤價'] == maxClosingPrice]['證券名稱'].item()"
   ]
  },
  {
   "cell_type": "code",
   "execution_count": 2,
   "metadata": {},
   "outputs": [
    {
     "name": "stdout",
     "output_type": "stream",
     "text": [
      "收盤價每一股超過1000元的股票有 5 家公司\n"
     ]
    }
   ],
   "source": [
    "print(f'收盤價每一股超過1000元的股票有 {numberOfTarget} 家公司')"
   ]
  },
  {
   "cell_type": "code",
   "execution_count": 3,
   "metadata": {},
   "outputs": [
    {
     "data": {
      "text/html": [
       "<div>\n",
       "<style scoped>\n",
       "    .dataframe tbody tr th:only-of-type {\n",
       "        vertical-align: middle;\n",
       "    }\n",
       "\n",
       "    .dataframe tbody tr th {\n",
       "        vertical-align: top;\n",
       "    }\n",
       "\n",
       "    .dataframe thead th {\n",
       "        text-align: right;\n",
       "    }\n",
       "</style>\n",
       "<table border=\"1\" class=\"dataframe\">\n",
       "  <thead>\n",
       "    <tr style=\"text-align: right;\">\n",
       "      <th></th>\n",
       "      <th>證券名稱</th>\n",
       "      <th>收盤價</th>\n",
       "    </tr>\n",
       "  </thead>\n",
       "  <tbody>\n",
       "    <tr>\n",
       "      <th>696</th>\n",
       "      <td>大立光</td>\n",
       "      <td>2000.0</td>\n",
       "    </tr>\n",
       "    <tr>\n",
       "      <th>909</th>\n",
       "      <td>祥碩</td>\n",
       "      <td>1830.0</td>\n",
       "    </tr>\n",
       "    <tr>\n",
       "      <th>998</th>\n",
       "      <td>旭隼</td>\n",
       "      <td>1435.0</td>\n",
       "    </tr>\n",
       "    <tr>\n",
       "      <th>1001</th>\n",
       "      <td>矽力-KY</td>\n",
       "      <td>3355.0</td>\n",
       "    </tr>\n",
       "    <tr>\n",
       "      <th>1052</th>\n",
       "      <td>AES-KY</td>\n",
       "      <td>1240.0</td>\n",
       "    </tr>\n",
       "  </tbody>\n",
       "</table>\n",
       "</div>"
      ],
      "text/plain": [
       "        證券名稱     收盤價\n",
       "696      大立光  2000.0\n",
       "909       祥碩  1830.0\n",
       "998       旭隼  1435.0\n",
       "1001   矽力-KY  3355.0\n",
       "1052  AES-KY  1240.0"
      ]
     },
     "execution_count": 3,
     "metadata": {},
     "output_type": "execute_result"
    }
   ],
   "source": [
    "target.head()"
   ]
  },
  {
   "cell_type": "code",
   "execution_count": 4,
   "metadata": {},
   "outputs": [
    {
     "name": "stdout",
     "output_type": "stream",
     "text": [
      "平均收盤價：1583.4169692993164\n",
      "目前股王：矽力-KY\n"
     ]
    }
   ],
   "source": [
    "print(f'平均收盤價：{closingPriceMean}')\n",
    "print(f'目前股王：{stockKing}')"
   ]
  }
 ],
 "metadata": {
  "interpreter": {
   "hash": "aee8b7b246df8f9039afb4144a1f6fd8d2ca17a180786b69acc140d282b71a49"
  },
  "kernelspec": {
   "display_name": "Python 3.8.3 64-bit",
   "language": "python",
   "name": "python3"
  },
  "language_info": {
   "codemirror_mode": {
    "name": "ipython",
    "version": 3
   },
   "file_extension": ".py",
   "mimetype": "text/x-python",
   "name": "python",
   "nbconvert_exporter": "python",
   "pygments_lexer": "ipython3",
   "version": "3.8.3"
  },
  "orig_nbformat": 4
 },
 "nbformat": 4,
 "nbformat_minor": 2
}
