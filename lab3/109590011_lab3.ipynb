{
 "cells": [
  {
   "cell_type": "markdown",
   "metadata": {},
   "source": [
    "# 資工二 109590011 陳彥宇 資料科學導論 Lab3"
   ]
  },
  {
   "cell_type": "code",
   "execution_count": 1,
   "metadata": {},
   "outputs": [
    {
     "name": "stdout",
     "output_type": "stream",
     "text": [
      "開盤價平均值：68.79456692913386\n",
      "開盤價標準差：154.55021795449474\n",
      "收盤價平均值：67.18117235345582\n",
      "收盤價標準差：150.57943932823918\n"
     ]
    }
   ],
   "source": [
    "import requests\n",
    "import numpy as np\n",
    "import pandas as pd\n",
    "\n",
    "def toPriceArray(array):\n",
    "    arrayWithoutNullData = array[array != '--']\n",
    "    removeComma = np.vectorize(lambda priceString: priceString.replace(',', ''))\n",
    "    arrayWithoutComma = removeComma(arrayWithoutNullData)\n",
    "    return arrayWithoutComma.astype(np.float)\n",
    "\n",
    "date = '20220315'\n",
    "url = f'https://www.twse.com.tw/exchangeReport/MI_INDEX?response=json&date={date}&type=ALLBUT0999'\n",
    "\n",
    "response = requests.get(url)\n",
    "json = response.json()\n",
    "data = pd.DataFrame(json['data9'], columns=json['fields9'])\n",
    "\n",
    "openingPriceStringArray = np.array(data['開盤價'])\n",
    "openingPriceArray = toPriceArray(openingPriceStringArray)\n",
    "\n",
    "closingPriceStringArray = np.array(data['收盤價'])\n",
    "closingPriceArray = toPriceArray(closingPriceStringArray)\n",
    "\n",
    "print(f'開盤價平均值：{openingPriceArray.mean()}')\n",
    "print(f'開盤價標準差：{openingPriceArray.std()}')\n",
    "print(f'收盤價平均值：{closingPriceArray.mean()}')\n",
    "print(f'收盤價標準差：{closingPriceArray.std()}')"
   ]
  }
 ],
 "metadata": {
  "interpreter": {
   "hash": "aee8b7b246df8f9039afb4144a1f6fd8d2ca17a180786b69acc140d282b71a49"
  },
  "kernelspec": {
   "display_name": "Python 3.8.3 64-bit",
   "language": "python",
   "name": "python3"
  },
  "language_info": {
   "codemirror_mode": {
    "name": "ipython",
    "version": 3
   },
   "file_extension": ".py",
   "mimetype": "text/x-python",
   "name": "python",
   "nbconvert_exporter": "python",
   "pygments_lexer": "ipython3",
   "version": "3.8.3"
  },
  "orig_nbformat": 4
 },
 "nbformat": 4,
 "nbformat_minor": 2
}
